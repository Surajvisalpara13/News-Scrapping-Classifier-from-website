{
 "cells": [
  {
   "cell_type": "code",
   "execution_count": 11,
   "id": "15301d23",
   "metadata": {},
   "outputs": [],
   "source": [
    "import numpy as np\n",
    "import pandas as pd\n",
    "import nltk"
   ]
  },
  {
   "cell_type": "code",
   "execution_count": 12,
   "id": "17b4fc3d",
   "metadata": {},
   "outputs": [
    {
     "data": {
      "text/html": [
       "<div>\n",
       "<style scoped>\n",
       "    .dataframe tbody tr th:only-of-type {\n",
       "        vertical-align: middle;\n",
       "    }\n",
       "\n",
       "    .dataframe tbody tr th {\n",
       "        vertical-align: top;\n",
       "    }\n",
       "\n",
       "    .dataframe thead th {\n",
       "        text-align: right;\n",
       "    }\n",
       "</style>\n",
       "<table border=\"1\" class=\"dataframe\">\n",
       "  <thead>\n",
       "    <tr style=\"text-align: right;\">\n",
       "      <th></th>\n",
       "      <th>Category</th>\n",
       "      <th>Headline</th>\n",
       "      <th>Content</th>\n",
       "    </tr>\n",
       "  </thead>\n",
       "  <tbody>\n",
       "    <tr>\n",
       "      <th>0</th>\n",
       "      <td>politics</td>\n",
       "      <td>Flight announcement naming PM Modi poll code v...</td>\n",
       "      <td>Congress leader Jairam Ramesh objected to flig...</td>\n",
       "    </tr>\n",
       "    <tr>\n",
       "      <th>1</th>\n",
       "      <td>politics</td>\n",
       "      <td>Kingpin of liquor scam ran away fearing ED: Pa...</td>\n",
       "      <td>BJP spokesman Sambit Patra called CM Arvind Ke...</td>\n",
       "    </tr>\n",
       "    <tr>\n",
       "      <th>2</th>\n",
       "      <td>politics</td>\n",
       "      <td>Join it if you're right, Rahul did: Dutt as Ke...</td>\n",
       "      <td>Congress leader Abhishek Dutt has reacted to D...</td>\n",
       "    </tr>\n",
       "    <tr>\n",
       "      <th>3</th>\n",
       "      <td>politics</td>\n",
       "      <td>No, Modi Did Not Call Hindutva A ‘Playing Card...</td>\n",
       "      <td>A video of PM Modi calling Hindutva a mere pla...</td>\n",
       "    </tr>\n",
       "    <tr>\n",
       "      <th>4</th>\n",
       "      <td>politics</td>\n",
       "      <td>Congress more interested in 5 state polls than...</td>\n",
       "      <td>Bihar CM Nitish Kumar has said that the Congre...</td>\n",
       "    </tr>\n",
       "  </tbody>\n",
       "</table>\n",
       "</div>"
      ],
      "text/plain": [
       "   Category                                           Headline  \\\n",
       "0  politics  Flight announcement naming PM Modi poll code v...   \n",
       "1  politics  Kingpin of liquor scam ran away fearing ED: Pa...   \n",
       "2  politics  Join it if you're right, Rahul did: Dutt as Ke...   \n",
       "3  politics  No, Modi Did Not Call Hindutva A ‘Playing Card...   \n",
       "4  politics  Congress more interested in 5 state polls than...   \n",
       "\n",
       "                                             Content  \n",
       "0  Congress leader Jairam Ramesh objected to flig...  \n",
       "1  BJP spokesman Sambit Patra called CM Arvind Ke...  \n",
       "2  Congress leader Abhishek Dutt has reacted to D...  \n",
       "3  A video of PM Modi calling Hindutva a mere pla...  \n",
       "4  Bihar CM Nitish Kumar has said that the Congre...  "
      ]
     },
     "execution_count": 12,
     "metadata": {},
     "output_type": "execute_result"
    }
   ],
   "source": [
    "df=pd.read_csv('news_data.csv')\n",
    "df.head()"
   ]
  },
  {
   "cell_type": "code",
   "execution_count": 13,
   "id": "e0b7ab3b",
   "metadata": {},
   "outputs": [
    {
     "name": "stdout",
     "output_type": "stream",
     "text": [
      "Requirement already satisfied: nltk in c:\\users\\smit\\anaconda3\\lib\\site-packages (3.8.1)Note: you may need to restart the kernel to use updated packages.\n",
      "\n",
      "Requirement already satisfied: click in c:\\users\\smit\\anaconda3\\lib\\site-packages (from nltk) (8.0.4)\n",
      "Requirement already satisfied: joblib in c:\\users\\smit\\anaconda3\\lib\\site-packages (from nltk) (1.2.0)\n",
      "Requirement already satisfied: regex>=2021.8.3 in c:\\users\\smit\\anaconda3\\lib\\site-packages (from nltk) (2022.7.9)\n",
      "Requirement already satisfied: tqdm in c:\\users\\smit\\anaconda3\\lib\\site-packages (from nltk) (4.65.0)\n",
      "Requirement already satisfied: colorama in c:\\users\\smit\\anaconda3\\lib\\site-packages (from click->nltk) (0.4.6)\n"
     ]
    }
   ],
   "source": [
    "pip install nltk"
   ]
  },
  {
   "cell_type": "code",
   "execution_count": 14,
   "id": "8d09e90b",
   "metadata": {},
   "outputs": [
    {
     "name": "stderr",
     "output_type": "stream",
     "text": [
      "[nltk_data] Downloading package punkt to\n",
      "[nltk_data]     C:\\Users\\SMIT\\AppData\\Roaming\\nltk_data...\n",
      "[nltk_data]   Unzipping tokenizers\\punkt.zip.\n"
     ]
    },
    {
     "data": {
      "text/plain": [
       "True"
      ]
     },
     "execution_count": 14,
     "metadata": {},
     "output_type": "execute_result"
    }
   ],
   "source": [
    "nltk.download('punkt')"
   ]
  },
  {
   "cell_type": "code",
   "execution_count": 15,
   "id": "0e3ce3b9",
   "metadata": {},
   "outputs": [],
   "source": [
    "from nltk.tokenize import sent_tokenize,word_tokenize\n",
    "\n",
    "token_titles=[]\n",
    "for headlines in df['Content']:\n",
    "    token_titles.append(word_tokenize(headlines.lower()))"
   ]
  },
  {
   "cell_type": "code",
   "execution_count": 16,
   "id": "f442a43a",
   "metadata": {},
   "outputs": [
    {
     "name": "stdout",
     "output_type": "stream",
     "text": [
      "['congress', 'leader', 'jairam', 'ramesh', 'objected', 'to', 'flight', 'announcement', 'by', 'indigo', 'mentioning', 'the', 'name', 'of', 'pm', 'narendra', 'modi', 'just', 'ahead', 'of', 'a', 'vote', 'appeal', 'advertisement', ',', 'saying', 'it', 'is', 'a', 'model', 'code', 'of', 'conduct', 'violation', '.', 'responding', 'to', 'him', ',', 'civil', 'aviation', 'minister', 'jyotiraditya', 'scindia', 'said', 'that', 'there', 'is', 'an', '``', 'ongoing', 'awareness', 'collaboration', \"''\", 'between', 'his', 'ministry', 'and', 'the', 'poll', 'panel', 'to', 'encourage', 'voter', 'participation', '.']\n",
      "['bjp', 'spokesman', 'sambit', 'patra', 'called', 'cm', 'arvind', 'kejriwal', 'the', '``', 'kingpin', \"''\", 'of', 'delhi', 'liquor', 'policy', 'scam', '.', 'as', 'kejriwal', 'skipped', 'enforcement', 'directorate', \"'s\", 'summons', ',', 'patra', 'said', ',', '``', 'he', 'does', \"n't\", 'want', 'to', 'face', 'the', 'truth', '.', 'running', 'away', 'from', 'probe', 'means', 'he', 'has', 'accepted', 'his', 'mistake', '.', \"''\", '``', 'he', 'used', 'to', 'call', 'himself', \"'kattar\", 'imaandaar', \"'\", '(', 'honest', ')', '...', 'now', 'it', 'has', 'been', 'established', 'that', 'he', 'is', \"'kattar\", 'besharam', \"'\", '(', 'shameless', ')', ',', \"''\", 'patra', 'added', '.']\n",
      "['congress', 'leader', 'abhishek', 'dutt', 'has', 'reacted', 'to', 'delhi', 'cm', 'arvind', 'kejriwal', 'not', 'appearing', 'for', 'questioning', 'by', 'the', 'ed', ',', 'saying', ',', '``', 'if', 'the', 'ed', 'has', 'summoned', 'you', 'and', 'you', 'know', 'you', 'are', 'right', ',', 'then', 'join', 'the', 'investigation', '.', \"''\", 'he', 'added', 'that', 'congress', 'leaders', 'rahul', 'and', 'sonia', 'gandhi', 'had', 'also', 'joined', 'investigations', 'in', 'the', 'past', '.', '``', 'have', 'the', 'courage', 'to', 'fight', 'bjp', ',', \"''\", 'he', 'added', '.']\n",
      "['a', 'video', 'of', 'pm', 'modi', 'calling', 'hindutva', 'a', 'mere', 'playing', 'card', 'used', 'by', 'bjp', 'during', 'elections', 'is', 'circulating', 'online', '.', 'the', 'original', 'video', 'is', 'from', 'a', '1998', 'interview', 'where', 'modi', 'said', 'that', 'hindutva', 'was', '``', 'not', \"''\", 'a', 'playing', 'card', 'for', 'the', 'bjp', '.', 'the', 'word', '``', 'not', \"''\", 'was', 'edited', 'out', 'of', 'the', 'video', 'to', 'make', 'the', 'false', 'claim', '.']\n",
      "['bihar', 'cm', 'nitish', 'kumar', 'has', 'said', 'that', 'the', 'congress', 'is', '``', 'more', 'interested', \"''\", 'in', 'the', 'assembly', 'elections', 'taking', 'place', 'in', 'five', 'states', 'than', 'the', 'india', 'bloc', '.', '``', 'we', 'were', 'all', 'working', 'together', 'to', 'take', 'forward', 'the', 'congress', 'party', 'but', 'they', 'are', 'not', 'worried', 'about', 'all', 'this', 'right', 'now', '...', '[', 'the', 'party', ']', 'will', 'call', 'everyone', 'themselves', 'after', 'the', 'polls', 'are', 'over', ',', \"''\", 'he', 'added', '.']\n",
      "['people', 'protesting', 'for', 'martha', 'reservation', 'blackened', 'the', 'posters', 'of', 'maharashtra', 'cm', 'eknath', 'shinde', 'and', 'deputy', 'cm', 'devendra', 'fadnavis', 'in', 'thane', '.', 'a', 'video', 'showing', 'a', 'protester', 'using', 'a', 'spray', 'paint', 'to', 'blacken', 'fadnavis', \"'\", 'poster', 'has', 'surfaced', 'online', '.', 'earlier', ',', 'a', 'resolution', 'was', 'passed', 'by', 'political', 'parties', 'in', 'the', 'state', 'which', 'requested', 'maratha', 'quota', 'activist', 'manoj', 'jarange', 'patil', 'to', 'withdraw', 'his', 'fast-unto-death', '.']\n",
      "['delhi', 'minister', 'saurabh', 'bharadwaj', 'criticised', 'the', 'central', 'government', 'after', 'ed', 'raids', 'were', 'conducted', 'on', 'premises', 'of', 'delhi', 'minister', 'raaj', 'kumar', 'anand', 'on', 'thursday', '.', '``', 'even', 'during', 'the', 'british', 'era', ',', 'if', 'you', 'had', 'to', 'search', 'someone', \"'s\", 'house', ',', 'you', 'needed', 'a', 'search', 'warrant', 'from', 'the', 'court', ',', \"''\", 'bharadwaj', 'said', '.', 'even', 'the', 'british', 'believed', 'that', 'such', 'actions', 'would', 'create', 'an', 'atmosphere', 'of', 'terror', ',', 'he', 'added', '.']\n",
      "['congress', 'leader', 'rahul', 'gandhi', 'on', 'thursday', 'shared', 'pictures', 'from', 'telangana', \"'s\", 'medigadda', 'barrage', ',', 'which', 'is', 'part', 'of', 'the', 'kaleshwaram', 'lift', 'irrigation', 'project', ',', 'and', 'alleged', 'that', 'cracks', 'have', 'developed', 'in', 'multiple', 'pillars', 'due', 'to', '``', 'shoddy', \"''\", 'construction', '.', '``', 'kaleshwaram', 'project', '=', 'kcr', 'family', 'atm', ',', \"''\", 'he', 'said', '.', 'he', 'also', 'claimed', 'that', 'reports', 'suggested', 'that', 'the', 'pillars', 'are', 'sinking', '.', 'this', 'comes', 'ahead', 'of', 'state', 'assembly', 'polls', '.']\n",
      "['bjp', 'mp', 'nishikant', 'dubey', 'noted', 'that', 'media', 'is', 'reporting', 'that', 'businessman', 'darshan', 'hiranandani', 'accessed', 'tmc', 'mp', 'mahua', 'moitra', \"'s\", 'email', 'id', 'and', 'mp', 'portal', '47', 'times', 'from', 'dubai', 'to', 'ask', 'questions', 'in', 'the', 'lok', 'sabha', '.', '``', 'if', 'this', '...', 'is', 'true', '...', 'all', 'mps', 'should', 'stand', 'against', 'moitra', ',', \"''\", 'he', 'added', '.', '``', 'hiranandani', 'asked', 'questions', '...', 'for', 'hiranandani', ',', \"''\", 'dubey', 'said', ',', 'questioning', ',', '``', 'are', 'we', 'mps', 'for', 'the', 'selfish', 'interests', 'of', 'capitalists', '?', \"''\"]\n",
      "['lawyer', 'jai', 'anant', 'dehadrai', ',', 'who', 'levelled', 'bribery', 'allegations', 'against', 'tmc', \"'s\", 'mahua', 'moitra', 'and', 'was', 'called', '``', 'jilted', 'lover', \"''\", 'by', 'her', ',', 'said', 'that', 'he', 'will', 'explain', 'the', 'whole', 'matter', 'when', 'the', 'right', 'time', 'comes', '.', '``', 'if', 'somebody', 'is', 'trying', 'to', 'alter', 'the', 'narrative', 'by', 'trying', 'to', 'play', 'victim', ',', 'the', 'whole', 'country', 'is', 'watching', ',', \"''\", 'dehadrai', 'said', ',', 'adding', 'that', 'he', 'is', 'not', 'afraid', 'of', 'anyone', '.']\n"
     ]
    }
   ],
   "source": [
    "for title in token_titles[0:10]:\n",
    "    print(title)"
   ]
  },
  {
   "cell_type": "code",
   "execution_count": 17,
   "id": "6bef3082",
   "metadata": {},
   "outputs": [],
   "source": [
    "# Pickling TOKENIZED_TITLES\n",
    "\n",
    "# Required Library\n",
    "import pickle\n",
    "\n",
    "file = \"pklFilescontents/TOKENIZED_TITLES.pkl\"\n",
    "fileobj = open(file, 'wb')\n",
    "pickle.dump(token_titles, fileobj)\n",
    "fileobj.close()"
   ]
  },
  {
   "cell_type": "code",
   "execution_count": 20,
   "id": "9b437ada",
   "metadata": {},
   "outputs": [
    {
     "name": "stderr",
     "output_type": "stream",
     "text": [
      "[nltk_data] Downloading package stopwords to\n",
      "[nltk_data]     C:\\Users\\SMIT\\AppData\\Roaming\\nltk_data...\n",
      "[nltk_data]   Unzipping corpora\\stopwords.zip.\n"
     ]
    },
    {
     "data": {
      "text/plain": [
       "True"
      ]
     },
     "execution_count": 20,
     "metadata": {},
     "output_type": "execute_result"
    }
   ],
   "source": [
    "nltk.download('stopwords')"
   ]
  },
  {
   "cell_type": "code",
   "execution_count": 21,
   "id": "3771100b",
   "metadata": {},
   "outputs": [
    {
     "name": "stdout",
     "output_type": "stream",
     "text": [
      "Stop Words : \n",
      "{'are', \"you're\", 'further', 'too', 'isn', 'm', 'doing', 'some', 'him', 'ourselves', \"you've\", 'who', 'can', 'yours', 'and', 'am', 'ain', 'will', 'hers', 'yourself', \"wasn't\", 'having', 'those', 'in', 'she', \"mightn't\", 'is', 'wouldn', 'they', 'during', 'above', 'this', 'why', 'once', 'same', 'needn', \"wouldn't\", 'me', 'doesn', \"aren't\", 'more', 'i', \"needn't\", 'an', 'other', 'such', 'do', 'from', 'it', \"shouldn't\", 'only', 'of', 'll', \"hasn't\", \"won't\", 'we', 'don', 'did', 'under', 'ma', 'itself', 'against', 'weren', 'my', 'as', 'with', 'he', 's', 'haven', 'than', 'after', 'should', 'has', 'before', 'a', 'to', 'her', \"mustn't\", 'y', 'on', 'd', 'wasn', 'what', 'whom', \"it's\", 'were', 'his', 'at', 'now', \"that'll\", 'between', 'myself', 'hasn', 'herself', \"hadn't\", 'how', 'have', 'again', 'which', 'but', 't', 'does', 'very', 'down', 'couldn', \"didn't\", 'won', 'most', 'our', 'so', 'not', 'didn', \"you'll\", 'or', 'that', 'own', 'its', 'be', 'for', 'up', 'about', \"she's\", 'there', 'these', 'any', \"should've\", 'being', 'your', 'himself', 'you', \"weren't\", 'off', 'them', \"couldn't\", 'while', 'few', 'the', 'into', 'below', 'been', 'themselves', 'through', 'shan', 'over', 'hadn', 'until', 'each', 'by', 'when', 'had', 'no', 'just', 'o', 're', 'where', \"don't\", 'nor', \"you'd\", 'yourselves', 've', \"isn't\", 'if', \"shan't\", 'mustn', 'then', 'aren', \"doesn't\", 'mightn', 'was', 'theirs', 'their', 'out', \"haven't\", 'shouldn', 'both', 'here', 'because', 'ours', 'all'}\n",
      "\n",
      "Punctuations : \n",
      "{'`', '#', '<', '~', ')', '=', '[', '{', '|', '\"', ':', '&', '@', '(', '*', '!', '/', \"'\", '_', ',', '.', ']', '>', '%', '+', '?', '^', '$', '}', '\\\\', ';', '-'}\n",
      "\n",
      "Filtered Titles : \n",
      "[['congress', 'leader', 'jairam', 'ramesh', 'objected', 'flight', 'announcement', 'indigo', 'mentioning', 'name', 'pm', 'narendra', 'modi', 'ahead', 'vote', 'appeal', 'advertisement', 'saying', 'model', 'code', 'conduct', 'violation', 'responding', 'civil', 'aviation', 'minister', 'jyotiraditya', 'scindia', 'said', '``', 'ongoing', 'awareness', 'collaboration', \"''\", 'ministry', 'poll', 'panel', 'encourage', 'voter', 'participation'], ['bjp', 'spokesman', 'sambit', 'patra', 'called', 'cm', 'arvind', 'kejriwal', '``', 'kingpin', \"''\", 'delhi', 'liquor', 'policy', 'scam', 'kejriwal', 'skipped', 'enforcement', 'directorate', 'summons', 'patra', 'said', '``', \"n't\", 'want', 'face', 'truth', 'running', 'away', 'probe', 'means', 'accepted', 'mistake', \"''\", '``', 'used', 'call', \"'kattar\", 'imaandaar', 'honest', '...', 'established', \"'kattar\", 'besharam', 'shameless', \"''\", 'patra', 'added'], ['congress', 'leader', 'abhishek', 'dutt', 'reacted', 'delhi', 'cm', 'arvind', 'kejriwal', 'appearing', 'questioning', 'ed', 'saying', '``', 'ed', 'summoned', 'know', 'right', 'join', 'investigation', \"''\", 'added', 'congress', 'leaders', 'rahul', 'sonia', 'gandhi', 'also', 'joined', 'investigations', 'past', '``', 'courage', 'fight', 'bjp', \"''\", 'added'], ['video', 'pm', 'modi', 'calling', 'hindutva', 'mere', 'playing', 'card', 'used', 'bjp', 'elections', 'circulating', 'online', 'original', 'video', '1998', 'interview', 'modi', 'said', 'hindutva', '``', \"''\", 'playing', 'card', 'bjp', 'word', '``', \"''\", 'edited', 'video', 'make', 'false', 'claim'], ['bihar', 'cm', 'nitish', 'kumar', 'said', 'congress', '``', 'interested', \"''\", 'assembly', 'elections', 'taking', 'place', 'five', 'states', 'india', 'bloc', '``', 'working', 'together', 'take', 'forward', 'congress', 'party', 'worried', 'right', '...', 'party', 'call', 'everyone', 'polls', \"''\", 'added']]\n"
     ]
    }
   ],
   "source": [
    "# Also removes 's\n",
    "\n",
    "# Required Libraries\n",
    "from nltk.corpus import stopwords\n",
    "import string\n",
    "\n",
    "# Stop Words for English Language\n",
    "stop_words = set(stopwords.words(\"english\"))\n",
    "print(\"Stop Words : \")\n",
    "print(stop_words)\n",
    "\n",
    "# Punctuations\n",
    "punctuations = set(string.punctuation)\n",
    "print(\"\\nPunctuations : \")\n",
    "print(punctuations)\n",
    "\n",
    "# FILTERED TITLE =  Title Without Stop Words & Punctuations\n",
    "FILTERED_TITLES = []\n",
    "\n",
    "for title in token_titles:\n",
    "    temp_title = []\n",
    "    for word in title:\n",
    "        if((word not in stop_words) and (word not in punctuations) and (word != \"'s\")):\n",
    "            temp_title.append(word)\n",
    "            \n",
    "    FILTERED_TITLES.append(temp_title)\n",
    "        \n",
    "\n",
    "print(\"\\nFiltered Titles : \")\n",
    "print(FILTERED_TITLES[0:5])"
   ]
  },
  {
   "cell_type": "code",
   "execution_count": 22,
   "id": "4c9eea62",
   "metadata": {},
   "outputs": [],
   "source": [
    "# Pickling FILTERED_TITLES\n",
    "\n",
    "# Library already imported\n",
    "# import pickle\n",
    "\n",
    "file = \"pklFilescontents/FILTERED_TITLES.pkl\"\n",
    "fileobj = open(file, 'wb')\n",
    "pickle.dump(FILTERED_TITLES, fileobj)\n",
    "fileobj.close()"
   ]
  },
  {
   "cell_type": "code",
   "execution_count": 23,
   "id": "940257b7",
   "metadata": {},
   "outputs": [
    {
     "name": "stdout",
     "output_type": "stream",
     "text": [
      "Stemmed Titles Headlines : \n",
      "[\"congress leader jairam ramesh object flight announc indigo mention name pm narendra modi ahead vote appeal advertis say model code conduct violat respond civil aviat minist jyotiraditya scindia said `` ongo awar collabor '' ministri poll panel encourag voter particip\", \"bjp spokesman sambit patra call cm arvind kejriw `` kingpin '' delhi liquor polici scam kejriw skip enforc director summon patra said `` n't want face truth run away probe mean accept mistak '' `` use call 'kattar imaandaar honest ... establish 'kattar besharam shameless '' patra ad\", \"congress leader abhishek dutt react delhi cm arvind kejriw appear question ed say `` ed summon know right join investig '' ad congress leader rahul sonia gandhi also join investig past `` courag fight bjp '' ad\", \"video pm modi call hindutva mere play card use bjp elect circul onlin origin video 1998 interview modi said hindutva `` '' play card bjp word `` '' edit video make fals claim\", \"bihar cm nitish kumar said congress `` interest '' assembl elect take place five state india bloc `` work togeth take forward congress parti worri right ... parti call everyon poll '' ad\"]\n"
     ]
    }
   ],
   "source": [
    "# Stemming using Porter Stemmer\n",
    "\n",
    "# Required Library\n",
    "from nltk.stem import PorterStemmer\n",
    "\n",
    "porter = PorterStemmer()\n",
    "\n",
    "STEMMED_TITLES_HEADLINES = []\n",
    "\n",
    "for title in FILTERED_TITLES:\n",
    "    temp_title = []\n",
    "    for word in title:\n",
    "        temp_title.append(porter.stem(word))\n",
    "        \n",
    "    STEMMED_TITLES_HEADLINES.append(\" \".join(temp_title))\n",
    "    \n",
    "    \n",
    "print(\"Stemmed Titles Headlines : \")\n",
    "print(STEMMED_TITLES_HEADLINES[0:5])"
   ]
  },
  {
   "cell_type": "code",
   "execution_count": 24,
   "id": "02b55e11",
   "metadata": {},
   "outputs": [],
   "source": [
    "# Pickling STEMMED_TITLES_HEADLINES\n",
    "\n",
    "# Library already imported\n",
    "# import pickle\n",
    "\n",
    "file = \"pklFilescontents/STEMMED_TITLES_HEADLINES.pkl\"\n",
    "fileobj = open(file, 'wb')\n",
    "pickle.dump(STEMMED_TITLES_HEADLINES, fileobj)\n",
    "fileobj.close()"
   ]
  },
  {
   "cell_type": "code",
   "execution_count": 25,
   "id": "1eb067e8",
   "metadata": {},
   "outputs": [
    {
     "data": {
      "text/html": [
       "<div>\n",
       "<style scoped>\n",
       "    .dataframe tbody tr th:only-of-type {\n",
       "        vertical-align: middle;\n",
       "    }\n",
       "\n",
       "    .dataframe tbody tr th {\n",
       "        vertical-align: top;\n",
       "    }\n",
       "\n",
       "    .dataframe thead th {\n",
       "        text-align: right;\n",
       "    }\n",
       "</style>\n",
       "<table border=\"1\" class=\"dataframe\">\n",
       "  <thead>\n",
       "    <tr style=\"text-align: right;\">\n",
       "      <th></th>\n",
       "      <th>Headline</th>\n",
       "      <th>Category</th>\n",
       "    </tr>\n",
       "  </thead>\n",
       "  <tbody>\n",
       "    <tr>\n",
       "      <th>0</th>\n",
       "      <td>congress leader jairam ramesh object flight an...</td>\n",
       "      <td>politics</td>\n",
       "    </tr>\n",
       "    <tr>\n",
       "      <th>1</th>\n",
       "      <td>bjp spokesman sambit patra call cm arvind kejr...</td>\n",
       "      <td>politics</td>\n",
       "    </tr>\n",
       "    <tr>\n",
       "      <th>2</th>\n",
       "      <td>congress leader abhishek dutt react delhi cm a...</td>\n",
       "      <td>politics</td>\n",
       "    </tr>\n",
       "    <tr>\n",
       "      <th>3</th>\n",
       "      <td>video pm modi call hindutva mere play card use...</td>\n",
       "      <td>politics</td>\n",
       "    </tr>\n",
       "    <tr>\n",
       "      <th>4</th>\n",
       "      <td>bihar cm nitish kumar said congress `` interes...</td>\n",
       "      <td>politics</td>\n",
       "    </tr>\n",
       "  </tbody>\n",
       "</table>\n",
       "</div>"
      ],
      "text/plain": [
       "                                            Headline  Category\n",
       "0  congress leader jairam ramesh object flight an...  politics\n",
       "1  bjp spokesman sambit patra call cm arvind kejr...  politics\n",
       "2  congress leader abhishek dutt react delhi cm a...  politics\n",
       "3  video pm modi call hindutva mere play card use...  politics\n",
       "4  bihar cm nitish kumar said congress `` interes...  politics"
      ]
     },
     "execution_count": 25,
     "metadata": {},
     "output_type": "execute_result"
    }
   ],
   "source": [
    "# Replacing HEADLINES with STEMMED_TITLES_HEADLINES\n",
    "df = df.drop(['Content','Headline'], axis=1)\n",
    "df.insert(0, \"Headline\", STEMMED_TITLES_HEADLINES, True)\n",
    "\n",
    "df.head()"
   ]
  },
  {
   "cell_type": "code",
   "execution_count": 26,
   "id": "1e5ce47b",
   "metadata": {},
   "outputs": [
    {
     "data": {
      "text/html": [
       "<div>\n",
       "<style scoped>\n",
       "    .dataframe tbody tr th:only-of-type {\n",
       "        vertical-align: middle;\n",
       "    }\n",
       "\n",
       "    .dataframe tbody tr th {\n",
       "        vertical-align: top;\n",
       "    }\n",
       "\n",
       "    .dataframe thead th {\n",
       "        text-align: right;\n",
       "    }\n",
       "</style>\n",
       "<table border=\"1\" class=\"dataframe\">\n",
       "  <thead>\n",
       "    <tr style=\"text-align: right;\">\n",
       "      <th></th>\n",
       "      <th>Headline</th>\n",
       "      <th>Category</th>\n",
       "      <th>ENCODED_CATEGORY</th>\n",
       "    </tr>\n",
       "  </thead>\n",
       "  <tbody>\n",
       "    <tr>\n",
       "      <th>0</th>\n",
       "      <td>congress leader jairam ramesh object flight an...</td>\n",
       "      <td>politics</td>\n",
       "      <td>2</td>\n",
       "    </tr>\n",
       "    <tr>\n",
       "      <th>1</th>\n",
       "      <td>bjp spokesman sambit patra call cm arvind kejr...</td>\n",
       "      <td>politics</td>\n",
       "      <td>2</td>\n",
       "    </tr>\n",
       "    <tr>\n",
       "      <th>2</th>\n",
       "      <td>congress leader abhishek dutt react delhi cm a...</td>\n",
       "      <td>politics</td>\n",
       "      <td>2</td>\n",
       "    </tr>\n",
       "    <tr>\n",
       "      <th>3</th>\n",
       "      <td>video pm modi call hindutva mere play card use...</td>\n",
       "      <td>politics</td>\n",
       "      <td>2</td>\n",
       "    </tr>\n",
       "    <tr>\n",
       "      <th>4</th>\n",
       "      <td>bihar cm nitish kumar said congress `` interes...</td>\n",
       "      <td>politics</td>\n",
       "      <td>2</td>\n",
       "    </tr>\n",
       "  </tbody>\n",
       "</table>\n",
       "</div>"
      ],
      "text/plain": [
       "                                            Headline  Category  \\\n",
       "0  congress leader jairam ramesh object flight an...  politics   \n",
       "1  bjp spokesman sambit patra call cm arvind kejr...  politics   \n",
       "2  congress leader abhishek dutt react delhi cm a...  politics   \n",
       "3  video pm modi call hindutva mere play card use...  politics   \n",
       "4  bihar cm nitish kumar said congress `` interes...  politics   \n",
       "\n",
       "   ENCODED_CATEGORY  \n",
       "0                 2  \n",
       "1                 2  \n",
       "2                 2  \n",
       "3                 2  \n",
       "4                 2  "
      ]
     },
     "execution_count": 26,
     "metadata": {},
     "output_type": "execute_result"
    }
   ],
   "source": [
    "# Encoding News Categories\n",
    "\n",
    "# Required Library\n",
    "from sklearn.preprocessing import LabelEncoder\n",
    "\n",
    "labelencoder = LabelEncoder()\n",
    "\n",
    "# Adding Column of ENCODED CATEGORY\n",
    "df.insert(2, \"ENCODED_CATEGORY\", labelencoder.fit_transform(df['Category']), True)\n",
    "\n",
    "\n",
    "df.head()"
   ]
  },
  {
   "cell_type": "code",
   "execution_count": 27,
   "id": "6475331e",
   "metadata": {},
   "outputs": [],
   "source": [
    "# Pickling DataFrame\n",
    "\n",
    "# Library already imported\n",
    "# import pickle\n",
    "\n",
    "file = \"pklFilescontents/DATAFRAME.pkl\"\n",
    "fileobj = open(file, 'wb')\n",
    "pickle.dump(df, fileobj)\n",
    "fileobj.close()"
   ]
  },
  {
   "cell_type": "code",
   "execution_count": null,
   "id": "bfaea4ea",
   "metadata": {},
   "outputs": [],
   "source": []
  }
 ],
 "metadata": {
  "kernelspec": {
   "display_name": "Python 3 (ipykernel)",
   "language": "python",
   "name": "python3"
  },
  "language_info": {
   "codemirror_mode": {
    "name": "ipython",
    "version": 3
   },
   "file_extension": ".py",
   "mimetype": "text/x-python",
   "name": "python",
   "nbconvert_exporter": "python",
   "pygments_lexer": "ipython3",
   "version": "3.11.5"
  }
 },
 "nbformat": 4,
 "nbformat_minor": 5
}
