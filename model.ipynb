{
 "cells": [
  {
   "cell_type": "code",
   "execution_count": 1,
   "id": "4a8d6ce3",
   "metadata": {},
   "outputs": [
    {
     "name": "stdout",
     "output_type": "stream",
     "text": [
      "<class 'pandas.core.frame.DataFrame'>\n"
     ]
    },
    {
     "data": {
      "text/html": [
       "<div>\n",
       "<style scoped>\n",
       "    .dataframe tbody tr th:only-of-type {\n",
       "        vertical-align: middle;\n",
       "    }\n",
       "\n",
       "    .dataframe tbody tr th {\n",
       "        vertical-align: top;\n",
       "    }\n",
       "\n",
       "    .dataframe thead th {\n",
       "        text-align: right;\n",
       "    }\n",
       "</style>\n",
       "<table border=\"1\" class=\"dataframe\">\n",
       "  <thead>\n",
       "    <tr style=\"text-align: right;\">\n",
       "      <th></th>\n",
       "      <th>Headline</th>\n",
       "      <th>Category</th>\n",
       "      <th>ENCODED_CATEGORY</th>\n",
       "    </tr>\n",
       "  </thead>\n",
       "  <tbody>\n",
       "    <tr>\n",
       "      <th>0</th>\n",
       "      <td>congress leader jairam ramesh object flight an...</td>\n",
       "      <td>politics</td>\n",
       "      <td>2</td>\n",
       "    </tr>\n",
       "    <tr>\n",
       "      <th>1</th>\n",
       "      <td>bjp spokesman sambit patra call cm arvind kejr...</td>\n",
       "      <td>politics</td>\n",
       "      <td>2</td>\n",
       "    </tr>\n",
       "    <tr>\n",
       "      <th>2</th>\n",
       "      <td>congress leader abhishek dutt react delhi cm a...</td>\n",
       "      <td>politics</td>\n",
       "      <td>2</td>\n",
       "    </tr>\n",
       "    <tr>\n",
       "      <th>3</th>\n",
       "      <td>video pm modi call hindutva mere play card use...</td>\n",
       "      <td>politics</td>\n",
       "      <td>2</td>\n",
       "    </tr>\n",
       "    <tr>\n",
       "      <th>4</th>\n",
       "      <td>bihar cm nitish kumar said congress `` interes...</td>\n",
       "      <td>politics</td>\n",
       "      <td>2</td>\n",
       "    </tr>\n",
       "  </tbody>\n",
       "</table>\n",
       "</div>"
      ],
      "text/plain": [
       "                                            Headline  Category  \\\n",
       "0  congress leader jairam ramesh object flight an...  politics   \n",
       "1  bjp spokesman sambit patra call cm arvind kejr...  politics   \n",
       "2  congress leader abhishek dutt react delhi cm a...  politics   \n",
       "3  video pm modi call hindutva mere play card use...  politics   \n",
       "4  bihar cm nitish kumar said congress `` interes...  politics   \n",
       "\n",
       "   ENCODED_CATEGORY  \n",
       "0                 2  \n",
       "1                 2  \n",
       "2                 2  \n",
       "3                 2  \n",
       "4                 2  "
      ]
     },
     "execution_count": 1,
     "metadata": {},
     "output_type": "execute_result"
    }
   ],
   "source": [
    "# Importing Libraries\n",
    "import numpy as np\n",
    "import pandas as pd\n",
    "# Loading DataFrame\n",
    "\n",
    "# Required Library\n",
    "import pickle\n",
    "\n",
    "file = \"pklFilescontents/DATAFRAME.pkl\"\n",
    "fileobj = open(file, 'rb')\n",
    "df = pickle.load(fileobj)\n",
    "fileobj.close()\n",
    "\n",
    "print(type(df))\n",
    "df.head()"
   ]
  },
  {
   "cell_type": "code",
   "execution_count": 2,
   "id": "9001e893",
   "metadata": {},
   "outputs": [],
   "source": [
    "# News Headlines\n",
    "X = df['Headline']\n",
    "\n",
    "# Encoded News Category\n",
    "y = df['ENCODED_CATEGORY']"
   ]
  },
  {
   "cell_type": "code",
   "execution_count": 3,
   "id": "05ed9652",
   "metadata": {},
   "outputs": [],
   "source": [
    "# Splitting the dataset into Training set & Testing set\n",
    "\n",
    "# Required Library\n",
    "from sklearn.model_selection import train_test_split\n",
    "\n",
    "# Testing_set = 25%  and  Training_set = 75%\n",
    "X_train, X_test, y_train, y_test = train_test_split(X, y , test_size = 0.25, random_state = 51)"
   ]
  },
  {
   "cell_type": "code",
   "execution_count": 8,
   "id": "2501c59a",
   "metadata": {},
   "outputs": [],
   "source": [
    "from sklearn.feature_extraction.text import TfidfVectorizer\n",
    "\n",
    "# Instantiating TfidfVectorizer\n",
    "tfidf_vectorizer = TfidfVectorizer()\n",
    "\n",
    "# Fitting & Tranforming Training Data (X_train)\n",
    "tfidf_X_train = tfidf_vectorizer.fit_transform(X_train.values)\n",
    "\n",
    "# Tranforming Testing Data (X_test)\n",
    "tfidf_X_test = tfidf_vectorizer.transform(X_test.values)\n",
    "\n",
    "# Saving tfidf_vectorizer\n",
    "pickle.dump(tfidf_vectorizer, open(\"pklFilescontents/tfidf_vectorizer.pkl\",\"wb\"))"
   ]
  },
  {
   "cell_type": "code",
   "execution_count": 10,
   "id": "2a3db6fd",
   "metadata": {},
   "outputs": [],
   "source": [
    "# Multinomial Naive Bayes Classifier\n",
    "\n",
    "# Required Library\n",
    "from sklearn.naive_bayes import MultinomialNB\n",
    "\n",
    "# Instantiating Naive Bayes Classifier with alpha = 1.0\n",
    "nb_classifier = MultinomialNB()\n",
    "\n",
    "# Fitting nb_classifier to Training Data\n",
    "nb_classifier.fit(tfidf_X_train, y_train)\n",
    "\n",
    "# Saving nb_classifier for tfidf_vectorizer\n",
    "pickle.dump(nb_classifier, open(\"pklFilescontents/nb_classifier_for_tfidf_vectorizer.pkl\", \"wb\"))"
   ]
  },
  {
   "cell_type": "code",
   "execution_count": 11,
   "id": "40eba7fb",
   "metadata": {},
   "outputs": [],
   "source": [
    "# Prediction\n",
    "pred = nb_classifier.predict(tfidf_X_test)"
   ]
  },
  {
   "cell_type": "code",
   "execution_count": 13,
   "id": "f9dabf74",
   "metadata": {},
   "outputs": [
    {
     "name": "stdout",
     "output_type": "stream",
     "text": [
      "Multinomial Naive Bayes : (TF-IDF Approach) \n",
      "\n",
      "Accuracy : 66.67 %\n",
      "\n",
      "\n",
      "Confusion Matrix :\n",
      "[[0 0 0 0 0 3]\n",
      " [0 3 0 0 0 0]\n",
      " [0 0 3 0 0 0]\n",
      " [0 0 0 3 0 0]\n",
      " [0 0 0 0 0 2]\n",
      " [0 0 0 0 0 1]]\n"
     ]
    }
   ],
   "source": [
    "# Accuracy Score & Confusion Matrix\n",
    "\n",
    "# Required Library\n",
    "from sklearn import metrics\n",
    "\n",
    "print(\"Multinomial Naive Bayes : (TF-IDF Approach) \\n\")\n",
    "\n",
    "# Accuracy\n",
    "a_score = metrics.accuracy_score(y_test, pred)\n",
    "print(\"Accuracy : \" + str(\"{:.2f}\".format(a_score*100)),'%')\n",
    "\n",
    "print(\"\\n\")\n",
    "\n",
    "# Confusion Matrix\n",
    "# Labels : 0(Business), 1(Entertainment), 2(Health), 3(Science & Technology)\n",
    "# By defualt, Horizontally, Labels are from 0 to 3\n",
    "# By defualt, Vertically,   Labels are from 0 to 3\n",
    "confusion_matrix = metrics.confusion_matrix(y_test, pred)\n",
    "\n",
    "print(\"Confusion Matrix :\")\n",
    "print(confusion_matrix)"
   ]
  },
  {
   "cell_type": "code",
   "execution_count": 14,
   "id": "c042427d",
   "metadata": {},
   "outputs": [
    {
     "name": "stdout",
     "output_type": "stream",
     "text": [
      "Alpha :  0.0\n",
      "Accuracy Score :  0.5333333333333333\n",
      "\n",
      "Alpha :  0.1\n",
      "Accuracy Score :  0.6\n",
      "\n",
      "Alpha :  0.2\n",
      "Accuracy Score :  0.6\n",
      "\n",
      "Alpha :  0.30000000000000004\n",
      "Accuracy Score :  0.6\n",
      "\n",
      "Alpha :  0.4\n",
      "Accuracy Score :  0.6666666666666666\n",
      "\n",
      "Alpha :  0.5\n",
      "Accuracy Score :  0.6666666666666666\n",
      "\n",
      "Alpha :  0.6000000000000001\n",
      "Accuracy Score :  0.6666666666666666\n",
      "\n",
      "Alpha :  0.7000000000000001\n",
      "Accuracy Score :  0.6666666666666666\n",
      "\n",
      "Alpha :  0.8\n",
      "Accuracy Score :  0.6666666666666666\n",
      "\n",
      "Alpha :  0.9\n",
      "Accuracy Score :  0.6666666666666666\n",
      "\n"
     ]
    },
    {
     "name": "stderr",
     "output_type": "stream",
     "text": [
      "C:\\Users\\SMIT\\anaconda3\\Lib\\site-packages\\sklearn\\naive_bayes.py:624: FutureWarning: The default value for `force_alpha` will change to `True` in 1.4. To suppress this warning, manually set the value of `force_alpha`.\n",
      "  warnings.warn(\n",
      "C:\\Users\\SMIT\\anaconda3\\Lib\\site-packages\\sklearn\\naive_bayes.py:633: UserWarning: alpha too small will result in numeric errors, setting alpha = 1.0e-10. Use `force_alpha=True` to keep alpha unchanged.\n",
      "  warnings.warn(\n"
     ]
    }
   ],
   "source": [
    "# Laplace Smoothing (Tunning parameter - alpha)\n",
    "\n",
    "# List of alphas\n",
    "alphas = np.arange(0,1,0.1)\n",
    "\n",
    "# Function for training nb_classifier with different alpha values\n",
    "def train_and_predict(alpha):\n",
    "    \n",
    "    # Instantiating Naive Bayes Classifier\n",
    "    nb_classifier = MultinomialNB(alpha=alpha)\n",
    "    \n",
    "    # Fitting nb_classifier to Training Data\n",
    "    nb_classifier.fit(tfidf_X_train, y_train)\n",
    "    \n",
    "    # Prediction\n",
    "    pred = nb_classifier.predict(tfidf_X_test)\n",
    "    \n",
    "    # Accuracy Score\n",
    "    a_score = metrics.accuracy_score(y_test, pred)\n",
    "    \n",
    "    return a_score\n",
    "\n",
    "\n",
    "# Iterating over alphas & printing the corresponding Accuracy Score\n",
    "for alpha in alphas:\n",
    "    print(\"Alpha : \", alpha)\n",
    "    print(\"Accuracy Score : \", train_and_predict(alpha))\n",
    "    print()"
   ]
  },
  {
   "cell_type": "markdown",
   "id": "d2b86130",
   "metadata": {},
   "source": [
    "bag of words"
   ]
  },
  {
   "cell_type": "code",
   "execution_count": 16,
   "id": "9745d20e",
   "metadata": {},
   "outputs": [],
   "source": [
    "# Feature Extraction\n",
    "\n",
    "# Required Library\n",
    "from sklearn.feature_extraction.text import CountVectorizer\n",
    "\n",
    "# Instantiating CountVectorizer\n",
    "count_vectorizer = CountVectorizer()\n",
    "\n",
    "# Fitting & Tranforming Training Data (X_train)\n",
    "count_X_train = count_vectorizer.fit_transform(X_train.values)\n",
    "\n",
    "# Tranforming Testing Data (X_test)\n",
    "count_X_test = count_vectorizer.transform(X_test.values)\n",
    "\n",
    "# Saving count_vectorizer\n",
    "pickle.dump(count_vectorizer, open(\"pklFilescontents/count_vectorizer.pkl\",\"wb\"))"
   ]
  },
  {
   "cell_type": "code",
   "execution_count": 17,
   "id": "578cd045",
   "metadata": {},
   "outputs": [],
   "source": [
    "# Multinomial Naive Bayes Classifier\n",
    "\n",
    "# Required Library\n",
    "from sklearn.naive_bayes import MultinomialNB\n",
    "\n",
    "# Instantiating Naive Bayes Classifier with alpha = 1.0\n",
    "nb_classifier = MultinomialNB()\n",
    "\n",
    "# Fitting nb_classifier to Training Data\n",
    "nb_classifier.fit(count_X_train, y_train)\n",
    "\n",
    "# Saving nb_classifier for count_vectorizer\n",
    "pickle.dump(nb_classifier, open(\"pklFilescontents/nb_classifier_for_count_vectorizer.pkl\", \"wb\"))"
   ]
  },
  {
   "cell_type": "code",
   "execution_count": 18,
   "id": "4f0020ef",
   "metadata": {},
   "outputs": [
    {
     "name": "stdout",
     "output_type": "stream",
     "text": [
      "Multinomial Naive Bayes : (BOW Approach) \n",
      "\n",
      "Accuracy : 53.33 %\n",
      "\n",
      "\n",
      "Confusion Matrix :\n",
      "[[0 0 0 0 0 3]\n",
      " [1 2 0 0 0 0]\n",
      " [0 0 3 0 0 0]\n",
      " [0 0 0 3 0 0]\n",
      " [1 0 0 0 0 1]\n",
      " [1 0 0 0 0 0]]\n"
     ]
    }
   ],
   "source": [
    "# Prediction\n",
    "pred = nb_classifier.predict(count_X_test)\n",
    "# Accuracy Score & Confusion Matrix\n",
    "\n",
    "# Required Library\n",
    "from sklearn import metrics\n",
    "\n",
    "print(\"Multinomial Naive Bayes : (BOW Approach) \\n\")\n",
    "\n",
    "# Accuracy\n",
    "a_score = metrics.accuracy_score(y_test, pred)\n",
    "print(\"Accuracy : \" + str(\"{:.2f}\".format(a_score*100)),'%')\n",
    "\n",
    "print(\"\\n\")\n",
    "\n",
    "# Confusion Matrix\n",
    "# Labels : 0(Business), 1(Entertainment), 2(Health), 3(Science & Technology)\n",
    "# By defualt, Horizontally, Labels are from 0 to 3\n",
    "# By defualt, Vertically,   Labels are from 0 to 3\n",
    "confusion_matrix = metrics.confusion_matrix(y_test, pred)\n",
    "\n",
    "print(\"Confusion Matrix :\")\n",
    "print(confusion_matrix)"
   ]
  },
  {
   "cell_type": "code",
   "execution_count": 19,
   "id": "13464820",
   "metadata": {},
   "outputs": [
    {
     "name": "stdout",
     "output_type": "stream",
     "text": [
      "Alpha :  0.0\n",
      "Accuracy Score :  0.6666666666666666\n",
      "\n",
      "Alpha :  0.1\n",
      "Accuracy Score :  0.6\n",
      "\n",
      "Alpha :  0.2\n",
      "Accuracy Score :  0.6\n",
      "\n",
      "Alpha :  0.30000000000000004\n",
      "Accuracy Score :  0.6\n",
      "\n",
      "Alpha :  0.4\n",
      "Accuracy Score :  0.6\n",
      "\n",
      "Alpha :  0.5\n",
      "Accuracy Score :  0.6\n",
      "\n",
      "Alpha :  0.6000000000000001\n",
      "Accuracy Score :  0.5333333333333333\n",
      "\n",
      "Alpha :  0.7000000000000001\n",
      "Accuracy Score :  0.5333333333333333\n",
      "\n",
      "Alpha :  0.8\n",
      "Accuracy Score :  0.5333333333333333\n",
      "\n",
      "Alpha :  0.9\n",
      "Accuracy Score :  0.5333333333333333\n",
      "\n"
     ]
    },
    {
     "name": "stderr",
     "output_type": "stream",
     "text": [
      "C:\\Users\\SMIT\\anaconda3\\Lib\\site-packages\\sklearn\\naive_bayes.py:624: FutureWarning: The default value for `force_alpha` will change to `True` in 1.4. To suppress this warning, manually set the value of `force_alpha`.\n",
      "  warnings.warn(\n",
      "C:\\Users\\SMIT\\anaconda3\\Lib\\site-packages\\sklearn\\naive_bayes.py:633: UserWarning: alpha too small will result in numeric errors, setting alpha = 1.0e-10. Use `force_alpha=True` to keep alpha unchanged.\n",
      "  warnings.warn(\n"
     ]
    }
   ],
   "source": [
    "\n",
    "# Laplace Smoothing (Tunning parameter - alpha)\n",
    "\n",
    "# List of alphas\n",
    "alphas = np.arange(0,1,0.1)\n",
    "\n",
    "# Function for training nb_classifier with different alpha values\n",
    "def train_and_predict(alpha):\n",
    "    \n",
    "    # Instantiating Naive Bayes Classifier\n",
    "    nb_classifier = MultinomialNB(alpha=alpha)\n",
    "    \n",
    "    # Fitting nb_classifier to Training Data\n",
    "    nb_classifier.fit(count_X_train, y_train)\n",
    "    \n",
    "    # Prediction\n",
    "    pred = nb_classifier.predict(count_X_test)\n",
    "    \n",
    "    # Accuracy Score\n",
    "    a_score = metrics.accuracy_score(y_test, pred)\n",
    "    \n",
    "    return a_score\n",
    "\n",
    "\n",
    "# Iterating over alphas & printing the corresponding Accuracy Score\n",
    "for alpha in alphas:\n",
    "    print(\"Alpha : \", alpha)\n",
    "    print(\"Accuracy Score : \", train_and_predict(alpha))\n",
    "    print()"
   ]
  },
  {
   "cell_type": "code",
   "execution_count": null,
   "id": "c72a83bf",
   "metadata": {},
   "outputs": [],
   "source": []
  },
  {
   "cell_type": "code",
   "execution_count": null,
   "id": "516d9889",
   "metadata": {},
   "outputs": [],
   "source": []
  }
 ],
 "metadata": {
  "kernelspec": {
   "display_name": "Python 3 (ipykernel)",
   "language": "python",
   "name": "python3"
  },
  "language_info": {
   "codemirror_mode": {
    "name": "ipython",
    "version": 3
   },
   "file_extension": ".py",
   "mimetype": "text/x-python",
   "name": "python",
   "nbconvert_exporter": "python",
   "pygments_lexer": "ipython3",
   "version": "3.11.5"
  }
 },
 "nbformat": 4,
 "nbformat_minor": 5
}
